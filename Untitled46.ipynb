{
  "nbformat": 4,
  "nbformat_minor": 0,
  "metadata": {
    "colab": {
      "name": "Untitled46.ipynb",
      "provenance": []
    },
    "kernelspec": {
      "name": "python3",
      "display_name": "Python 3"
    }
  },
  "cells": [
    {
      "cell_type": "code",
      "metadata": {
        "id": "wmI3qlP4lSiN",
        "colab_type": "code",
        "colab": {
          "base_uri": "https://localhost:8080/",
          "height": 121
        },
        "outputId": "05e7496f-808a-475f-e0af-9cea4dc7fc4f"
      },
      "source": [
        "from google.colab import drive\n",
        "drive.mount('/content/drive')"
      ],
      "execution_count": 1,
      "outputs": [
        {
          "output_type": "stream",
          "text": [
            "Go to this URL in a browser: https://accounts.google.com/o/oauth2/auth?client_id=947318989803-6bn6qk8qdgf4n4g3pfee6491hc0brc4i.apps.googleusercontent.com&redirect_uri=urn%3aietf%3awg%3aoauth%3a2.0%3aoob&response_type=code&scope=email%20https%3a%2f%2fwww.googleapis.com%2fauth%2fdocs.test%20https%3a%2f%2fwww.googleapis.com%2fauth%2fdrive%20https%3a%2f%2fwww.googleapis.com%2fauth%2fdrive.photos.readonly%20https%3a%2f%2fwww.googleapis.com%2fauth%2fpeopleapi.readonly\n",
            "\n",
            "Enter your authorization code:\n",
            "··········\n",
            "Mounted at /content/drive\n"
          ],
          "name": "stdout"
        }
      ]
    },
    {
      "cell_type": "code",
      "metadata": {
        "id": "Z1G_QFzRlkLo",
        "colab_type": "code",
        "colab": {
          "base_uri": "https://localhost:8080/",
          "height": 104
        },
        "outputId": "828d1e6c-3abe-4c1a-f528-9b5fbcf0b592"
      },
      "source": [
        "import imblearn"
      ],
      "execution_count": 2,
      "outputs": [
        {
          "output_type": "stream",
          "text": [
            "/usr/local/lib/python3.6/dist-packages/sklearn/externals/six.py:31: FutureWarning: The module is deprecated in version 0.21 and will be removed in version 0.23 since we've dropped support for Python 2.7. Please rely on the official version of six (https://pypi.org/project/six/).\n",
            "  \"(https://pypi.org/project/six/).\", FutureWarning)\n",
            "/usr/local/lib/python3.6/dist-packages/sklearn/utils/deprecation.py:144: FutureWarning: The sklearn.neighbors.base module is  deprecated in version 0.22 and will be removed in version 0.24. The corresponding classes / functions should instead be imported from sklearn.neighbors. Anything that cannot be imported from sklearn.neighbors is now part of the private API.\n",
            "  warnings.warn(message, FutureWarning)\n"
          ],
          "name": "stderr"
        }
      ]
    },
    {
      "cell_type": "code",
      "metadata": {
        "id": "pkTbZEXwlr0k",
        "colab_type": "code",
        "colab": {
          "base_uri": "https://localhost:8080/",
          "height": 121
        },
        "outputId": "d985b32d-16e1-4339-a975-f67311bc6603"
      },
      "source": [
        "pip install Unidecode"
      ],
      "execution_count": 3,
      "outputs": [
        {
          "output_type": "stream",
          "text": [
            "Collecting Unidecode\n",
            "\u001b[?25l  Downloading https://files.pythonhosted.org/packages/d0/42/d9edfed04228bacea2d824904cae367ee9efd05e6cce7ceaaedd0b0ad964/Unidecode-1.1.1-py2.py3-none-any.whl (238kB)\n",
            "\r\u001b[K     |█▍                              | 10kB 18.3MB/s eta 0:00:01\r\u001b[K     |██▊                             | 20kB 2.2MB/s eta 0:00:01\r\u001b[K     |████▏                           | 30kB 2.6MB/s eta 0:00:01\r\u001b[K     |█████▌                          | 40kB 2.8MB/s eta 0:00:01\r\u001b[K     |██████▉                         | 51kB 2.5MB/s eta 0:00:01\r\u001b[K     |████████▎                       | 61kB 2.7MB/s eta 0:00:01\r\u001b[K     |█████████▋                      | 71kB 3.1MB/s eta 0:00:01\r\u001b[K     |███████████                     | 81kB 3.3MB/s eta 0:00:01\r\u001b[K     |████████████▍                   | 92kB 3.4MB/s eta 0:00:01\r\u001b[K     |█████████████▊                  | 102kB 3.4MB/s eta 0:00:01\r\u001b[K     |███████████████▏                | 112kB 3.4MB/s eta 0:00:01\r\u001b[K     |████████████████▌               | 122kB 3.4MB/s eta 0:00:01\r\u001b[K     |█████████████████▉              | 133kB 3.4MB/s eta 0:00:01\r\u001b[K     |███████████████████▎            | 143kB 3.4MB/s eta 0:00:01\r\u001b[K     |████████████████████▋           | 153kB 3.4MB/s eta 0:00:01\r\u001b[K     |██████████████████████          | 163kB 3.4MB/s eta 0:00:01\r\u001b[K     |███████████████████████▍        | 174kB 3.4MB/s eta 0:00:01\r\u001b[K     |████████████████████████▊       | 184kB 3.4MB/s eta 0:00:01\r\u001b[K     |██████████████████████████▏     | 194kB 3.4MB/s eta 0:00:01\r\u001b[K     |███████████████████████████▌    | 204kB 3.4MB/s eta 0:00:01\r\u001b[K     |████████████████████████████▉   | 215kB 3.4MB/s eta 0:00:01\r\u001b[K     |██████████████████████████████▎ | 225kB 3.4MB/s eta 0:00:01\r\u001b[K     |███████████████████████████████▋| 235kB 3.4MB/s eta 0:00:01\r\u001b[K     |████████████████████████████████| 245kB 3.4MB/s \n",
            "\u001b[?25hInstalling collected packages: Unidecode\n",
            "Successfully installed Unidecode-1.1.1\n"
          ],
          "name": "stdout"
        }
      ]
    },
    {
      "cell_type": "code",
      "metadata": {
        "id": "qy5qM72XltXF",
        "colab_type": "code",
        "colab": {
          "base_uri": "https://localhost:8080/",
          "height": 70
        },
        "outputId": "05ca76cc-cd75-43b6-cb4d-9610d98942c0"
      },
      "source": [
        "import pandas as pd\n",
        "import numpy as np\n",
        "import nltk\n",
        "import os\n",
        "\n",
        "import collections\n",
        "from collections import Counter\n",
        "\n",
        "import matplotlib.pyplot as plt\n",
        "import seaborn as sn\n",
        "\n",
        "from nltk.tokenize import word_tokenize\n",
        "\n",
        "import warnings\n",
        "warnings.filterwarnings(\"ignore\")\n",
        "\n",
        "from sklearn.model_selection import train_test_split\n",
        "from sklearn.feature_extraction.text import TfidfVectorizer\n",
        "from sklearn.model_selection import KFold \n",
        "from sklearn.multiclass import OneVsRestClassifier\n",
        "from sklearn.svm import LinearSVC\n",
        "from sklearn.linear_model import LogisticRegression\n",
        "from sklearn.naive_bayes import MultinomialNB\n",
        "from sklearn.metrics import accuracy_score, fbeta_score, multilabel_confusion_matrix, confusion_matrix, plot_confusion_matrix, f1_score"
      ],
      "execution_count": 4,
      "outputs": [
        {
          "output_type": "stream",
          "text": [
            "/usr/local/lib/python3.6/dist-packages/statsmodels/tools/_testing.py:19: FutureWarning: pandas.util.testing is deprecated. Use the functions in the public API at pandas.testing instead.\n",
            "  import pandas.util.testing as tm\n"
          ],
          "name": "stderr"
        }
      ]
    },
    {
      "cell_type": "code",
      "metadata": {
        "id": "CxpYIqJLlvgp",
        "colab_type": "code",
        "colab": {}
      },
      "source": [
        "data = pd.read_csv('/content/drive/My Drive/train.csv/train.csv')\n",
        "data_dum = data.copy()"
      ],
      "execution_count": 0,
      "outputs": []
    },
    {
      "cell_type": "code",
      "metadata": {
        "id": "2ShA07a0lxpH",
        "colab_type": "code",
        "colab": {}
      },
      "source": [
        "comments = data_dum['comment_text'].to_numpy()\n",
        "labels = data_dum[['toxic', 'severe_toxic', 'obscene', 'threat', 'insult', 'identity_hate']].to_numpy()"
      ],
      "execution_count": 0,
      "outputs": []
    },
    {
      "cell_type": "code",
      "metadata": {
        "id": "W2dcGcGIl0TW",
        "colab_type": "code",
        "colab": {}
      },
      "source": [
        "data_ = []\n",
        "for ind in range(len(labels)):\n",
        "    num = np.count_nonzero(labels[ind])\n",
        "    if num == 0:\n",
        "      data_.append([comments[ind],0])\n",
        "    else:\n",
        "      data_.append([comments[ind],1])"
      ],
      "execution_count": 0,
      "outputs": []
    },
    {
      "cell_type": "code",
      "metadata": {
        "id": "S8OhFHXql2NN",
        "colab_type": "code",
        "colab": {}
      },
      "source": [
        "df = pd.DataFrame(data_,columns=['comment','label'])\n"
      ],
      "execution_count": 0,
      "outputs": []
    },
    {
      "cell_type": "code",
      "metadata": {
        "id": "4vr1g1zXl4ji",
        "colab_type": "code",
        "colab": {
          "base_uri": "https://localhost:8080/",
          "height": 67
        },
        "outputId": "6e14a0b5-aa3e-46e7-afd1-067d832fd9a9"
      },
      "source": [
        "df['label'].value_counts()"
      ],
      "execution_count": 9,
      "outputs": [
        {
          "output_type": "execute_result",
          "data": {
            "text/plain": [
              "0    143346\n",
              "1     16225\n",
              "Name: label, dtype: int64"
            ]
          },
          "metadata": {
            "tags": []
          },
          "execution_count": 9
        }
      ]
    },
    {
      "cell_type": "code",
      "metadata": {
        "id": "QPkrRhb3l6IY",
        "colab_type": "code",
        "colab": {}
      },
      "source": [
        "contraction_mapping = {\"ain't\": \"is not\", \"aren't\": \"are not\",\"can't\": \"cannot\", \n",
        "                   \"can't've\": \"cannot have\", \"'cause\": \"because\", \"could've\": \"could have\", \n",
        "                   \"couldn't\": \"could not\", \"couldn't've\": \"could not have\",\"didn't\": \"did not\", \n",
        "                   \"doesn't\": \"does not\", \"don't\": \"do not\", \"hadn't\": \"had not\", \n",
        "                   \"hadn't've\": \"had not have\", \"hasn't\": \"has not\", \"haven't\": \"have not\", \n",
        "                   \"he'd\": \"he would\", \"he'd've\": \"he would have\", \"he'll\": \"he will\", \n",
        "                   \"he'll've\": \"he will have\", \"he's\": \"he is\", \"how'd\": \"how did\", \n",
        "                   \"how'd'y\": \"how do you\", \"how'll\": \"how will\", \"how's\": \"how is\", \n",
        "                   \"I'd\": \"I would\", \"I'd've\": \"I would have\", \"I'll\": \"I will\", \n",
        "                   \"I'll've\": \"I will have\",\"I'm\": \"I am\", \"I've\": \"I have\", \n",
        "                   \"i'd\": \"i would\", \"i'd've\": \"i would have\", \"i'll\": \"i will\", \n",
        "                   \"i'll've\": \"i will have\",\"i'm\": \"i am\", \"i've\": \"i have\", \n",
        "                   \"isn't\": \"is not\", \"it'd\": \"it would\", \"it'd've\": \"it would have\", \n",
        "                   \"it'll\": \"it will\", \"it'll've\": \"it will have\",\"it's\": \"it is\", \n",
        "                   \"let's\": \"let us\", \"ma'am\": \"madam\", \"mayn't\": \"may not\", \n",
        "                   \"might've\": \"might have\",\"mightn't\": \"might not\",\"mightn't've\": \"might not have\", \n",
        "                   \"must've\": \"must have\", \"mustn't\": \"must not\", \"mustn't've\": \"must not have\", \n",
        "                   \"needn't\": \"need not\", \"needn't've\": \"need not have\",\"o'clock\": \"of the clock\", \n",
        "                   \"oughtn't\": \"ought not\", \"oughtn't've\": \"ought not have\", \"shan't\": \"shall not\",\n",
        "                   \"sha'n't\": \"shall not\", \"shan't've\": \"shall not have\", \"she'd\": \"she would\", \n",
        "                   \"she'd've\": \"she would have\", \"she'll\": \"she will\", \"she'll've\": \"she will have\", \n",
        "                   \"she's\": \"she is\", \"should've\": \"should have\", \"shouldn't\": \"should not\", \n",
        "                   \"shouldn't've\": \"should not have\", \"so've\": \"so have\",\"so's\": \"so as\", \n",
        "                   \"this's\": \"this is\",\n",
        "                   \"that'd\": \"that would\", \"that'd've\": \"that would have\",\"that's\": \"that is\", \n",
        "                   \"there'd\": \"there would\", \"there'd've\": \"there would have\",\"there's\": \"there is\", \n",
        "                       \"here's\": \"here is\",\n",
        "                   \"they'd\": \"they would\", \"they'd've\": \"they would have\", \"they'll\": \"they will\", \n",
        "                   \"they'll've\": \"they will have\", \"they're\": \"they are\", \"they've\": \"they have\", \n",
        "                   \"to've\": \"to have\", \"wasn't\": \"was not\", \"we'd\": \"we would\", \n",
        "                   \"we'd've\": \"we would have\", \"we'll\": \"we will\", \"we'll've\": \"we will have\", \n",
        "                   \"we're\": \"we are\", \"we've\": \"we have\", \"weren't\": \"were not\", \n",
        "                   \"what'll\": \"what will\", \"what'll've\": \"what will have\", \"what're\": \"what are\", \n",
        "                   \"what's\": \"what is\", \"what've\": \"what have\", \"when's\": \"when is\", \n",
        "                   \"when've\": \"when have\", \"where'd\": \"where did\", \"where's\": \"where is\", \n",
        "                   \"where've\": \"where have\", \"who'll\": \"who will\", \"who'll've\": \"who will have\", \n",
        "                   \"who's\": \"who is\", \"who've\": \"who have\", \"why's\": \"why is\", \n",
        "                   \"why've\": \"why have\", \"will've\": \"will have\", \"won't\": \"will not\", \n",
        "                   \"won't've\": \"will not have\", \"would've\": \"would have\", \"wouldn't\": \"would not\", \n",
        "                   \"wouldn't've\": \"would not have\", \"y'all\": \"you all\", \"y'all'd\": \"you all would\",\n",
        "                   \"y'all'd've\": \"you all would have\",\"y'all're\": \"you all are\",\"y'all've\": \"you all have\",\n",
        "                   \"you'd\": \"you would\", \"you'd've\": \"you would have\", \"you'll\": \"you will\", \n",
        "                   \"you'll've\": \"you will have\", \"you're\": \"you are\", \"you've\": \"you have\" } "
      ],
      "execution_count": 0,
      "outputs": []
    },
    {
      "cell_type": "code",
      "metadata": {
        "id": "DByjEZcYl8dV",
        "colab_type": "code",
        "colab": {}
      },
      "source": [
        "import codecs\n",
        "import unidecode\n",
        "import re\n",
        "import spacy\n",
        "nlp = spacy.load('en')\n",
        "\n",
        "def spacy_cleaner(text):\n",
        "    try:\n",
        "        decoded = unidecode.unidecode(codecs.decode(text, 'unicode_escape'))\n",
        "    except:\n",
        "        decoded = unidecode.unidecode(text)\n",
        "    apostrophe_handled = re.sub(\"’\", \"'\", decoded)\n",
        "    expanded = ' '.join([contraction_mapping[t] if t in contraction_mapping else t for t in apostrophe_handled.split(\" \")])\n",
        "    parsed = nlp(expanded)\n",
        "    final_tokens = []\n",
        "    for t in parsed:\n",
        "        if t.is_punct or t.is_space or t.like_num or t.like_url or str(t).startswith('@'):\n",
        "            pass\n",
        "        else:\n",
        "            if t.lemma_ == '-PRON-':\n",
        "                final_tokens.append(str(t))\n",
        "            else:\n",
        "                sc_removed = re.sub(\"[^a-zA-Z]\", '', str(t.lemma_))\n",
        "                if len(sc_removed) > 1:\n",
        "                    final_tokens.append(sc_removed)\n",
        "    joined = ' '.join(final_tokens)\n",
        "    spell_corrected = re.sub(r'(.)\\1+', r'\\1\\1', joined)\n",
        "    return spell_corrected"
      ],
      "execution_count": 0,
      "outputs": []
    },
    {
      "cell_type": "code",
      "metadata": {
        "id": "l76kkEEUl_FB",
        "colab_type": "code",
        "colab": {}
      },
      "source": [
        "df['clean_text'] = [spacy_cleaner(t) for t in df.comment]"
      ],
      "execution_count": 0,
      "outputs": []
    },
    {
      "cell_type": "code",
      "metadata": {
        "id": "vaxQV9yamCK0",
        "colab_type": "code",
        "colab": {}
      },
      "source": [
        "from sklearn.linear_model import LogisticRegression\n",
        "from sklearn.feature_extraction.text import TfidfVectorizer\n",
        "\n",
        "tvec = TfidfVectorizer(stop_words=None, max_features=100000, ngram_range=(1, 3))\n",
        "lr = LogisticRegression()\n",
        "\n",
        "from sklearn.model_selection import StratifiedKFold\n",
        "from sklearn.metrics import precision_score, recall_score, f1_score\n",
        "\n",
        "def lr_cv(splits, X, Y, pipeline, average_method):\n",
        "    \n",
        "    kfold = StratifiedKFold(n_splits=splits, shuffle=True, random_state=777)\n",
        "    accuracy = []\n",
        "    precision = []\n",
        "    recall = []\n",
        "    f1 = []\n",
        "    for train, test in kfold.split(X, Y):\n",
        "        lr_fit = pipeline.fit(X[train], Y[train])\n",
        "        prediction = lr_fit.predict(X[test])\n",
        "        scores = lr_fit.score(X[test],Y[test])\n",
        "        \n",
        "        accuracy.append(scores * 100)\n",
        "        precision.append(precision_score(Y[test], prediction, average=average_method)*100)\n",
        "        print('              non-toxic    toxic')\n",
        "        print('precision:',precision_score(Y[test], prediction, average=None))\n",
        "        recall.append(recall_score(Y[test], prediction, average=average_method)*100)\n",
        "        print('recall:   ',recall_score(Y[test], prediction, average=None))\n",
        "        f1.append(f1_score(Y[test], prediction, average=average_method)*100)\n",
        "        print('f1 score: ',f1_score(Y[test], prediction, average=None))\n",
        "        print('-'*50)\n",
        "\n",
        "    print(\"accuracy: %.2f%% (+/- %.2f%%)\" % (np.mean(accuracy), np.std(accuracy)))\n",
        "    print(\"precision: %.2f%% (+/- %.2f%%)\" % (np.mean(precision), np.std(precision)))\n",
        "    print(\"recall: %.2f%% (+/- %.2f%%)\" % (np.mean(recall), np.std(recall)))\n",
        "    print(\"f1 score: %.2f%% (+/- %.2f%%)\" % (np.mean(f1), np.std(f1)))"
      ],
      "execution_count": 0,
      "outputs": []
    },
    {
      "cell_type": "code",
      "metadata": {
        "id": "cKUJRBKAydmn",
        "colab_type": "code",
        "colab": {
          "base_uri": "https://localhost:8080/",
          "height": 336
        },
        "outputId": "7c27c9d7-06e0-46f5-d6ef-97733173483f"
      },
      "source": [
        "from sklearn.pipeline import Pipeline\n",
        "original_pipeline = Pipeline([\n",
        "    ('vectorizer', tvec),\n",
        "    ('classifier', lr)\n",
        "])\n",
        "lr_cv(3, df.clean_text, df.label, original_pipeline, 'macro')"
      ],
      "execution_count": 14,
      "outputs": [
        {
          "output_type": "stream",
          "text": [
            "              non-toxic    toxic\n",
            "precision: [0.95328526 0.94069092]\n",
            "recall:    [0.99593989 0.5688667 ]\n",
            "f1 score:  [0.97414587 0.70898618]\n",
            "--------------------------------------------------\n",
            "              non-toxic    toxic\n",
            "precision: [0.95366083 0.93903549]\n",
            "recall:    [0.9957934  0.57248521]\n",
            "f1 score:  [0.97427182 0.71131534]\n",
            "--------------------------------------------------\n",
            "              non-toxic    toxic\n",
            "precision: [0.95442687 0.93418702]\n",
            "recall:    [0.99537483 0.58006657]\n",
            "f1 score:  [0.97447088 0.71571983]\n",
            "--------------------------------------------------\n",
            "accuracy: 95.28% (+/- 0.03%)\n",
            "precision: 94.59% (+/- 0.11%)\n",
            "recall: 78.48% (+/- 0.22%)\n",
            "f1 score: 84.32% (+/- 0.15%)\n"
          ],
          "name": "stdout"
        }
      ]
    },
    {
      "cell_type": "code",
      "metadata": {
        "id": "7Njd2J0fyh76",
        "colab_type": "code",
        "colab": {}
      },
      "source": [
        "from imblearn.pipeline import make_pipeline\n",
        "from imblearn.over_sampling import ADASYN, SMOTE, RandomOverSampler\n",
        "ROS_pipeline = make_pipeline(tvec, RandomOverSampler(random_state=777),lr)\n",
        "SMOTE_pipeline = make_pipeline(tvec, SMOTE(random_state=777),lr)"
      ],
      "execution_count": 0,
      "outputs": []
    },
    {
      "cell_type": "code",
      "metadata": {
        "id": "RbOm_qTvzj-U",
        "colab_type": "code",
        "colab": {
          "base_uri": "https://localhost:8080/",
          "height": 336
        },
        "outputId": "8034cf9d-5d74-4203-ffda-1db45ad0e8c8"
      },
      "source": [
        "lr_cv(3, df.clean_text, df.label, ROS_pipeline, 'macro')"
      ],
      "execution_count": 16,
      "outputs": [
        {
          "output_type": "stream",
          "text": [
            "              non-toxic    toxic\n",
            "precision: [0.98097396 0.7046624 ]\n",
            "recall:    [0.96036164 0.83545942]\n",
            "f1 score:  [0.97055838 0.76450685]\n",
            "--------------------------------------------------\n",
            "              non-toxic    toxic\n",
            "precision: [0.98126364 0.70416408]\n",
            "recall:    [0.96015236 0.83801775]\n",
            "f1 score:  [0.97059321 0.765282  ]\n",
            "--------------------------------------------------\n",
            "              non-toxic    toxic\n",
            "precision: [0.98127341 0.70116009]\n",
            "recall:    [0.95956636 0.83820266]\n",
            "f1 score:  [0.9702985  0.76358123]\n",
            "--------------------------------------------------\n",
            "accuracy: 94.75% (+/- 0.02%)\n",
            "precision: 84.22% (+/- 0.07%)\n",
            "recall: 89.86% (+/- 0.05%)\n",
            "f1 score: 86.75% (+/- 0.04%)\n"
          ],
          "name": "stdout"
        }
      ]
    },
    {
      "cell_type": "code",
      "metadata": {
        "id": "wG24Z6nLzomm",
        "colab_type": "code",
        "colab": {
          "base_uri": "https://localhost:8080/",
          "height": 336
        },
        "outputId": "c3f8c61f-7ec3-4164-e2f7-e25019530053"
      },
      "source": [
        "lr_cv(3, df.clean_text, df.label, SMOTE_pipeline, 'macro')"
      ],
      "execution_count": 17,
      "outputs": [
        {
          "output_type": "stream",
          "text": [
            "              non-toxic    toxic\n",
            "precision: [0.97728279 0.54603214]\n",
            "recall:    [0.92373697 0.81031614]\n",
            "f1 score:  [0.94975577 0.65242632]\n",
            "--------------------------------------------------\n",
            "              non-toxic    toxic\n",
            "precision: [0.97871111 0.54334554]\n",
            "recall:    [0.92172785 0.82285503]\n",
            "f1 score:  [0.94936518 0.65450802]\n",
            "--------------------------------------------------\n",
            "              non-toxic    toxic\n",
            "precision: [0.97947247 0.54522247]\n",
            "recall:    [0.92170692 0.82932692]\n",
            "f1 score:  [0.94971212 0.65791404]\n",
            "--------------------------------------------------\n",
            "accuracy: 91.21% (+/- 0.03%)\n",
            "precision: 76.17% (+/- 0.05%)\n",
            "recall: 87.16% (+/- 0.35%)\n",
            "f1 score: 80.23% (+/- 0.11%)\n"
          ],
          "name": "stdout"
        }
      ]
    },
    {
      "cell_type": "code",
      "metadata": {
        "id": "U-34xy4m07yJ",
        "colab_type": "code",
        "colab": {}
      },
      "source": [
        "from imblearn.under_sampling import NearMiss, RandomUnderSampler\n",
        "RUS_pipeline = make_pipeline(tvec, RandomUnderSampler(random_state=777),lr)"
      ],
      "execution_count": 0,
      "outputs": []
    },
    {
      "cell_type": "code",
      "metadata": {
        "id": "QGk5jRFy2kKz",
        "colab_type": "code",
        "colab": {
          "base_uri": "https://localhost:8080/",
          "height": 336
        },
        "outputId": "3dee947c-749c-49bd-e147-8bc7434ce75d"
      },
      "source": [
        "lr_cv(3, df.clean_text, df.label, RUS_pipeline, 'macro')"
      ],
      "execution_count": 19,
      "outputs": [
        {
          "output_type": "stream",
          "text": [
            "              non-toxic    toxic\n",
            "precision: [0.98372218 0.54895064]\n",
            "recall:    [0.91948851 0.86559438]\n",
            "f1 score:  [0.9505214 0.6718324]\n",
            "--------------------------------------------------\n",
            "              non-toxic    toxic\n",
            "precision: [0.9839595  0.54857945]\n",
            "recall:    [0.91919551 0.86760355]\n",
            "f1 score:  [0.95047555 0.67215815]\n",
            "--------------------------------------------------\n",
            "              non-toxic    toxic\n",
            "precision: [0.98347367 0.53980358]\n",
            "recall:    [0.91664225 0.86390533]\n",
            "f1 score:  [0.94888265 0.6644386 ]\n",
            "--------------------------------------------------\n",
            "accuracy: 91.31% (+/- 0.13%)\n",
            "precision: 76.47% (+/- 0.22%)\n",
            "recall: 89.21% (+/- 0.13%)\n",
            "f1 score: 80.97% (+/- 0.22%)\n"
          ],
          "name": "stdout"
        }
      ]
    },
    {
      "cell_type": "code",
      "metadata": {
        "id": "-l2e43Pq2npn",
        "colab_type": "code",
        "colab": {}
      },
      "source": [
        "from sklearn import svm\n",
        "from sklearn.feature_extraction.text import TfidfVectorizer\n",
        "\n",
        "tvec = TfidfVectorizer(stop_words=None, max_features=100000, ngram_range=(1, 3))\n",
        "lr = svm.SVC(kernel='linear')\n",
        "\n",
        "from sklearn.model_selection import StratifiedKFold\n",
        "from sklearn.metrics import precision_score, recall_score, f1_score\n",
        "\n",
        "def lr_v(splits, X, Y, pipeline, average_method):\n",
        "    \n",
        "    kfold = StratifiedKFold(n_splits=splits, shuffle=True, random_state=777)\n",
        "    accuracy = []\n",
        "    precision = []\n",
        "    recall = []\n",
        "    f1 = []\n",
        "    for train, test in kfold.split(X, Y):\n",
        "        lr_fit = pipeline.fit(X[train], Y[train])\n",
        "        prediction = lr_fit.predict(X[test])\n",
        "        scores = lr_fit.score(X[test],Y[test])\n",
        "        \n",
        "        accuracy.append(scores * 100)\n",
        "        precision.append(precision_score(Y[test], prediction, average=average_method)*100)\n",
        "        print('              non-toxic    toxic')\n",
        "        print('precision:',precision_score(Y[test], prediction, average=None))\n",
        "        recall.append(recall_score(Y[test], prediction, average=average_method)*100)\n",
        "        print('recall:   ',recall_score(Y[test], prediction, average=None))\n",
        "        f1.append(f1_score(Y[test], prediction, average=average_method)*100)\n",
        "        print('f1 score: ',f1_score(Y[test], prediction, average=None))\n",
        "        print('-'*50)\n",
        "\n",
        "    print(\"accuracy: %.2f%% (+/- %.2f%%)\" % (np.mean(accuracy), np.std(accuracy)))\n",
        "    print(\"precision: %.2f%% (+/- %.2f%%)\" % (np.mean(precision), np.std(precision)))\n",
        "    print(\"recall: %.2f%% (+/- %.2f%%)\" % (np.mean(recall), np.std(recall)))\n",
        "    print(\"f1 score: %.2f%% (+/- %.2f%%)\" % (np.mean(f1), np.std(f1)))"
      ],
      "execution_count": 0,
      "outputs": []
    },
    {
      "cell_type": "code",
      "metadata": {
        "id": "O3erwB__2rpj",
        "colab_type": "code",
        "colab": {
          "base_uri": "https://localhost:8080/",
          "height": 336
        },
        "outputId": "627f5599-924a-4995-ee74-6a9165ec81a6"
      },
      "source": [
        "lr_v(3, df.clean_text, df.label, original_pipeline, 'macro')"
      ],
      "execution_count": 21,
      "outputs": [
        {
          "output_type": "stream",
          "text": [
            "              non-toxic    toxic\n",
            "precision: [0.95328526 0.94069092]\n",
            "recall:    [0.99593989 0.5688667 ]\n",
            "f1 score:  [0.97414587 0.70898618]\n",
            "--------------------------------------------------\n",
            "              non-toxic    toxic\n",
            "precision: [0.95366083 0.93903549]\n",
            "recall:    [0.9957934  0.57248521]\n",
            "f1 score:  [0.97427182 0.71131534]\n",
            "--------------------------------------------------\n",
            "              non-toxic    toxic\n",
            "precision: [0.95442687 0.93418702]\n",
            "recall:    [0.99537483 0.58006657]\n",
            "f1 score:  [0.97447088 0.71571983]\n",
            "--------------------------------------------------\n",
            "accuracy: 95.28% (+/- 0.03%)\n",
            "precision: 94.59% (+/- 0.11%)\n",
            "recall: 78.48% (+/- 0.22%)\n",
            "f1 score: 84.32% (+/- 0.15%)\n"
          ],
          "name": "stdout"
        }
      ]
    },
    {
      "cell_type": "code",
      "metadata": {
        "id": "7Z9S31TL2rn2",
        "colab_type": "code",
        "colab": {
          "base_uri": "https://localhost:8080/",
          "height": 101
        },
        "outputId": "cba3e606-d4dd-4ccc-ec00-e693b34c7aad"
      },
      "source": [
        "lr_v(3, df.clean_text, df.label, ROS_pipeline, 'macro')"
      ],
      "execution_count": 0,
      "outputs": [
        {
          "output_type": "stream",
          "text": [
            "              non-toxic    toxic\n",
            "precision: [0.98097396 0.7046624 ]\n",
            "recall:    [0.96036164 0.83545942]\n",
            "f1 score:  [0.97055838 0.76450685]\n",
            "--------------------------------------------------\n"
          ],
          "name": "stdout"
        }
      ]
    },
    {
      "cell_type": "code",
      "metadata": {
        "id": "WdBg0oQI2rmn",
        "colab_type": "code",
        "colab": {}
      },
      "source": [
        "lr_v(3, df.clean_text, df.label, SMOTE_pipeline, 'macro')"
      ],
      "execution_count": 0,
      "outputs": []
    },
    {
      "cell_type": "code",
      "metadata": {
        "id": "RsGPfCMZ2rki",
        "colab_type": "code",
        "colab": {}
      },
      "source": [
        "lr_v(3, df.clean_text, df.label, RUS_pipeline, 'macro')"
      ],
      "execution_count": 0,
      "outputs": []
    },
    {
      "cell_type": "code",
      "metadata": {
        "id": "g5VluHAQ2rho",
        "colab_type": "code",
        "colab": {}
      },
      "source": [
        "from sklearn.naive_bayes import GaussianNB\n",
        "from sklearn.feature_extraction.text import TfidfVectorizer\n",
        "\n",
        "tvec = TfidfVectorizer(stop_words=None, max_features=100000, ngram_range=(1, 3))\n",
        "lr = GaussianNB()\n",
        "\n",
        "from sklearn.model_selection import StratifiedKFold\n",
        "from sklearn.metrics import precision_score, recall_score, f1_score\n",
        "\n",
        "def lr_(splits, X, Y, pipeline, average_method):\n",
        "    \n",
        "    kfold = StratifiedKFold(n_splits=splits, shuffle=True, random_state=777)\n",
        "    accuracy = []\n",
        "    precision = []\n",
        "    recall = []\n",
        "    f1 = []\n",
        "    for train, test in kfold.split(X, Y):\n",
        "        lr_fit = pipeline.fit(X[train], Y[train])\n",
        "        prediction = lr_fit.predict(X[test])\n",
        "        scores = lr_fit.score(X[test],Y[test])\n",
        "        \n",
        "        accuracy.append(scores * 100)\n",
        "        precision.append(precision_score(Y[test], prediction, average=average_method)*100)\n",
        "        print('              non-toxic    toxic')\n",
        "        print('precision:',precision_score(Y[test], prediction, average=None))\n",
        "        recall.append(recall_score(Y[test], prediction, average=average_method)*100)\n",
        "        print('recall:   ',recall_score(Y[test], prediction, average=None))\n",
        "        f1.append(f1_score(Y[test], prediction, average=average_method)*100)\n",
        "        print('f1 score: ',f1_score(Y[test], prediction, average=None))\n",
        "        print('-'*50)\n",
        "\n",
        "    print(\"accuracy: %.2f%% (+/- %.2f%%)\" % (np.mean(accuracy), np.std(accuracy)))\n",
        "    print(\"precision: %.2f%% (+/- %.2f%%)\" % (np.mean(precision), np.std(precision)))\n",
        "    print(\"recall: %.2f%% (+/- %.2f%%)\" % (np.mean(recall), np.std(recall)))\n",
        "    print(\"f1 score: %.2f%% (+/- %.2f%%)\" % (np.mean(f1), np.std(f1)))"
      ],
      "execution_count": 0,
      "outputs": []
    },
    {
      "cell_type": "code",
      "metadata": {
        "id": "wFuQD7iR2rei",
        "colab_type": "code",
        "colab": {}
      },
      "source": [
        "lr_(3, df.clean_text, df.label, original_pipeline, 'macro')"
      ],
      "execution_count": 0,
      "outputs": []
    },
    {
      "cell_type": "code",
      "metadata": {
        "id": "1Ew495li2rZa",
        "colab_type": "code",
        "colab": {}
      },
      "source": [
        "lr_(3, df.clean_text, df.label, ROS_pipeline, 'macro')"
      ],
      "execution_count": 0,
      "outputs": []
    },
    {
      "cell_type": "code",
      "metadata": {
        "id": "lDJ1G0WX3YUy",
        "colab_type": "code",
        "colab": {}
      },
      "source": [
        "lr_(3, df.clean_text, df.label, SMOTE_pipeline, 'macro')"
      ],
      "execution_count": 0,
      "outputs": []
    },
    {
      "cell_type": "code",
      "metadata": {
        "id": "cG6utetX3YPf",
        "colab_type": "code",
        "colab": {}
      },
      "source": [
        "lr_(3, df.clean_text, df.label, RUS_pipeline, 'macro')"
      ],
      "execution_count": 0,
      "outputs": []
    }
  ]
}